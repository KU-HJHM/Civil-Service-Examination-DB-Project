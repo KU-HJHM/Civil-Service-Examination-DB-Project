{
  "nbformat": 4,
  "nbformat_minor": 0,
  "metadata": {
    "colab": {
      "provenance": [],
      "authorship_tag": "ABX9TyO5ra39By9w0pLAkK1NSlXY",
      "include_colab_link": true
    },
    "kernelspec": {
      "name": "python3",
      "display_name": "Python 3"
    },
    "language_info": {
      "name": "python"
    }
  },
  "cells": [
    {
      "cell_type": "markdown",
      "metadata": {
        "id": "view-in-github",
        "colab_type": "text"
      },
      "source": [
        "<a href=\"https://colab.research.google.com/github/KU-HJHM/Civil-Service-Examination-DB-Project/blob/main/%EA%B3%BC%EB%AC%B8%EC%84%A0%EC%A7%91_XML_%ED%8C%8C%EC%8B%B1_%EC%BD%94%EB%93%9C.ipynb\" target=\"_parent\"><img src=\"https://colab.research.google.com/assets/colab-badge.svg\" alt=\"Open In Colab\"/></a>"
      ]
    },
    {
      "cell_type": "code",
      "execution_count": null,
      "metadata": {
        "colab": {
          "base_uri": "https://localhost:8080/"
        },
        "id": "_izQIMjOg5D6",
        "outputId": "0c464f02-d09a-473e-8b54-bde82e1247fa"
      },
      "outputs": [
        {
          "output_type": "stream",
          "name": "stdout",
          "text": [
            "Collecting mpire\n",
            "  Downloading mpire-2.10.2-py3-none-any.whl.metadata (14 kB)\n",
            "Requirement already satisfied: pygments>=2.0 in /usr/local/lib/python3.11/dist-packages (from mpire) (2.18.0)\n",
            "Requirement already satisfied: tqdm>=4.27 in /usr/local/lib/python3.11/dist-packages (from mpire) (4.67.1)\n",
            "Downloading mpire-2.10.2-py3-none-any.whl (272 kB)\n",
            "\u001b[2K   \u001b[90m━━━━━━━━━━━━━━━━━━━━━━━━━━━━━━━━━━━━━━━━\u001b[0m \u001b[32m272.8/272.8 kB\u001b[0m \u001b[31m5.6 MB/s\u001b[0m eta \u001b[36m0:00:00\u001b[0m\n",
            "\u001b[?25hInstalling collected packages: mpire\n",
            "Successfully installed mpire-2.10.2\n"
          ]
        }
      ],
      "source": [
        "# 필요 패키지 설치(mpire)\n",
        "!pip install -U mpire\n",
        "\n",
        "# 필요 모듈 설치(pandas, numpy, lxml 등)\n",
        "import pandas as pd\n",
        "import numpy as np\n",
        "import lxml\n",
        "# import xml.etree.ElementTree as ET\n",
        "import lxml.etree as et\n",
        "from tqdm import tqdm\n",
        "import re\n",
        "from natsort import natsorted\n",
        "import glob\n",
        "import multiprocessing\n",
        "from mpire import WorkerPool\n",
        "import gdown\n",
        "\n",
        "# 코랩 한글 깨짐 방지\n",
        "def fix_font():\n",
        "    # From https://HC.Dle.pw, By Jinseo Kim\n",
        "    # v1.0.0\n",
        "    import os\n",
        "    import matplotlib as mpl\n",
        "    import matplotlib.pyplot as plt\n",
        "    import matplotlib.font_manager as fm\n",
        "    os.system(\"apt-get install -y fonts-nanum\")\n",
        "    os.system(\"fc-cache -fv\")\n",
        "    # mpl.font_manager._rebuild()\n",
        "    # findfont = mpl.font_manager.fontManager.findfont\n",
        "    # mpl.font_manager.findfont = findfont\n",
        "    # mpl.backends.backend_agg.findfont = findfont\n",
        "    # plt.rcParams['font.family'] = \"NanumBarunGothic\"\n",
        "    # plt.rcParams['axes.unicode_minus'] = False\n",
        "    fe = fm.FontEntry(\n",
        "        fname=r'/usr/share/fonts/truetype/nanum/NanumGothic.ttf', # ttf 파일이 저장되어 있는 경로\n",
        "        name='NanumGothic')                        # 이 폰트의 원하는 이름 설정\n",
        "    fm.fontManager.ttflist.insert(0, fe)              # Matplotlib에 폰트 추가\n",
        "    plt.rcParams.update({'font.family': 'NanumGothic'}) # 폰트 설정\n",
        "\n",
        "fix_font()"
      ]
    },
    {
      "cell_type": "code",
      "source": [
        "!git clone https://github.com/KU-HJHM/Civil-Service-Examination-DB-Project\n",
        "CE1000WRCHG = \"/content/Civil-Service-Examination-DB-Project/과문선집 XML/과문선집 XML 03_元陵靑黃科.xml\"\n",
        "tree = et.parse(CE1000WRCHG)\n",
        "parser=et.XMLParser(encoding='utf-8')\n",
        "root = tree.getroot()"
      ],
      "metadata": {
        "colab": {
          "base_uri": "https://localhost:8080/"
        },
        "id": "HTvevwiVg6E5",
        "outputId": "60faf2b0-9c8a-4cba-cdcc-3469c72e4418"
      },
      "execution_count": null,
      "outputs": [
        {
          "output_type": "stream",
          "name": "stdout",
          "text": [
            "Cloning into 'Civil-Service-Examination-DB-Project'...\n",
            "remote: Enumerating objects: 37, done.\u001b[K\n",
            "remote: Counting objects: 100% (37/37), done.\u001b[K\n",
            "remote: Compressing objects: 100% (34/34), done.\u001b[K\n",
            "remote: Total 37 (delta 12), reused 0 (delta 0), pack-reused 0 (from 0)\u001b[K\n",
            "Receiving objects: 100% (37/37), 92.41 KiB | 3.08 MiB/s, done.\n",
            "Resolving deltas: 100% (12/12), done.\n"
          ]
        }
      ]
    },
    {
      "cell_type": "code",
      "source": [
        "metadata = root.find('Metadata')\n",
        "metadata_dict = {\n",
        "    'VolumeCount': metadata.find('VolumeCount').text,\n",
        "    'Maintitle': metadata.find('.//Maintitle').text,\n",
        "    'CompilationType': metadata.find('CompilationType').text,\n",
        "    'Style': metadata.find('Style').text,\n",
        "    'Institution': metadata.find('.//Institution').text,\n",
        "    'Callnumber': metadata.find('.//Callnumber').text,\n",
        "    'Edition': metadata.find('Edition').text,\n",
        "}\n",
        "\n",
        "formatdata = root.find('Formatdata')\n",
        "formatdata_dict = {\n",
        "    'Table': formatdata.find('.//Table').text,\n",
        "    'PrefaceTitle': formatdata.find('.//Preface/Title').text,\n",
        "    'PrefaceContent': formatdata.find('.//Preface/Content').text,\n",
        "    'PrefaceAuthor': formatdata.find('.//Preface/Author').text,\n",
        "}\n",
        "\n",
        "contentdata = root.find('Contentdata')\n",
        "works_data = []\n",
        "for work in contentdata.findall('Work'):\n",
        "    work_dict = {}\n",
        "    # 시험 데이터\n",
        "    exam_data = work.find('Examinationdata')\n",
        "    work_dict['Exam'] = exam_data.find('Exam').text\n",
        "    work_dict['Sexagenarycycle'] = exam_data.find('.//Sexagenarycycle').text\n",
        "    work_dict['Year'] = exam_data.find('.//Year').text\n",
        "    work_dict['Site'] = exam_data.find('.//Site').text\n",
        "    work_dict['Examiner'] = ' '.join([examiner.text for examiner in exam_data.findall('.//Examiner/br')])\n",
        "\n",
        "    # 저자 데이터\n",
        "    author_data = work.find('Authordata')\n",
        "    work_dict['AuthorName'] = author_data.find('.//Name').text\n",
        "    work_dict['Grade'] = author_data.find('.//Grade').text\n",
        "\n",
        "    # 답안 데이터\n",
        "    answer_data = work.find('Answerdata')\n",
        "    work_dict['Question'] = answer_data.find('Question').text\n",
        "    work_dict['Answer'] = answer_data.find('Answer').text\n",
        "\n",
        "    # 추가 데이터\n",
        "    work_dict['Additionaldata'] = work.find('Additionaldata').text\n",
        "\n",
        "    works_data.append(work_dict)"
      ],
      "metadata": {
        "id": "wmC-fmv2hxA5"
      },
      "execution_count": null,
      "outputs": []
    },
    {
      "cell_type": "code",
      "source": [
        "metadata_df = pd.DataFrame([metadata_dict])\n",
        "formatdata_df = pd.DataFrame([formatdata_dict])\n",
        "works_df = pd.DataFrame(works_data)"
      ],
      "metadata": {
        "id": "FzBjAd98h5r6"
      },
      "execution_count": null,
      "outputs": []
    },
    {
      "cell_type": "code",
      "source": [
        "works_df.to_excel(\"works_data.xlsx\", index=False)"
      ],
      "metadata": {
        "id": "SmleixuViIAT"
      },
      "execution_count": null,
      "outputs": []
    }
  ]
}